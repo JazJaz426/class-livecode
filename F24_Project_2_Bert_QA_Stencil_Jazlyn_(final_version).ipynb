{
  "nbformat": 4,
  "nbformat_minor": 0,
  "metadata": {
    "colab": {
      "provenance": [],
      "gpuType": "T4",
      "toc_visible": true
    },
    "kernelspec": {
      "name": "python3",
      "display_name": "Python 3"
    },
    "language_info": {
      "name": "python"
    },
    "accelerator": "GPU"
  },
  "cells": [
    {
      "cell_type": "code",
      "source": [
        "!pip install datasets==3.1.0\n",
        "#load_dataset sometimes hangs on a higher version\n",
        "!pip install transformers"
      ],
      "metadata": {
        "id": "9yRIhS6lOTYX",
        "colab": {
          "base_uri": "https://localhost:8080/"
        },
        "outputId": "2b78cf7e-fe61-493d-97a0-e8d3dc52d2d3"
      },
      "execution_count": 1,
      "outputs": [
        {
          "output_type": "stream",
          "name": "stdout",
          "text": [
            "Collecting datasets==3.1.0\n",
            "  Downloading datasets-3.1.0-py3-none-any.whl.metadata (20 kB)\n",
            "Requirement already satisfied: filelock in /usr/local/lib/python3.10/dist-packages (from datasets==3.1.0) (3.16.1)\n",
            "Requirement already satisfied: numpy>=1.17 in /usr/local/lib/python3.10/dist-packages (from datasets==3.1.0) (1.26.4)\n",
            "Requirement already satisfied: pyarrow>=15.0.0 in /usr/local/lib/python3.10/dist-packages (from datasets==3.1.0) (17.0.0)\n",
            "Collecting dill<0.3.9,>=0.3.0 (from datasets==3.1.0)\n",
            "  Downloading dill-0.3.8-py3-none-any.whl.metadata (10 kB)\n",
            "Requirement already satisfied: pandas in /usr/local/lib/python3.10/dist-packages (from datasets==3.1.0) (2.2.2)\n",
            "Requirement already satisfied: requests>=2.32.2 in /usr/local/lib/python3.10/dist-packages (from datasets==3.1.0) (2.32.3)\n",
            "Requirement already satisfied: tqdm>=4.66.3 in /usr/local/lib/python3.10/dist-packages (from datasets==3.1.0) (4.66.6)\n",
            "Collecting xxhash (from datasets==3.1.0)\n",
            "  Downloading xxhash-3.5.0-cp310-cp310-manylinux_2_17_x86_64.manylinux2014_x86_64.whl.metadata (12 kB)\n",
            "Collecting multiprocess<0.70.17 (from datasets==3.1.0)\n",
            "  Downloading multiprocess-0.70.16-py310-none-any.whl.metadata (7.2 kB)\n",
            "Collecting fsspec<=2024.9.0,>=2023.1.0 (from fsspec[http]<=2024.9.0,>=2023.1.0->datasets==3.1.0)\n",
            "  Downloading fsspec-2024.9.0-py3-none-any.whl.metadata (11 kB)\n",
            "Requirement already satisfied: aiohttp in /usr/local/lib/python3.10/dist-packages (from datasets==3.1.0) (3.11.10)\n",
            "Requirement already satisfied: huggingface-hub>=0.23.0 in /usr/local/lib/python3.10/dist-packages (from datasets==3.1.0) (0.26.5)\n",
            "Requirement already satisfied: packaging in /usr/local/lib/python3.10/dist-packages (from datasets==3.1.0) (24.2)\n",
            "Requirement already satisfied: pyyaml>=5.1 in /usr/local/lib/python3.10/dist-packages (from datasets==3.1.0) (6.0.2)\n",
            "Requirement already satisfied: aiohappyeyeballs>=2.3.0 in /usr/local/lib/python3.10/dist-packages (from aiohttp->datasets==3.1.0) (2.4.4)\n",
            "Requirement already satisfied: aiosignal>=1.1.2 in /usr/local/lib/python3.10/dist-packages (from aiohttp->datasets==3.1.0) (1.3.1)\n",
            "Requirement already satisfied: async-timeout<6.0,>=4.0 in /usr/local/lib/python3.10/dist-packages (from aiohttp->datasets==3.1.0) (4.0.3)\n",
            "Requirement already satisfied: attrs>=17.3.0 in /usr/local/lib/python3.10/dist-packages (from aiohttp->datasets==3.1.0) (24.2.0)\n",
            "Requirement already satisfied: frozenlist>=1.1.1 in /usr/local/lib/python3.10/dist-packages (from aiohttp->datasets==3.1.0) (1.5.0)\n",
            "Requirement already satisfied: multidict<7.0,>=4.5 in /usr/local/lib/python3.10/dist-packages (from aiohttp->datasets==3.1.0) (6.1.0)\n",
            "Requirement already satisfied: propcache>=0.2.0 in /usr/local/lib/python3.10/dist-packages (from aiohttp->datasets==3.1.0) (0.2.1)\n",
            "Requirement already satisfied: yarl<2.0,>=1.17.0 in /usr/local/lib/python3.10/dist-packages (from aiohttp->datasets==3.1.0) (1.18.3)\n",
            "Requirement already satisfied: typing-extensions>=3.7.4.3 in /usr/local/lib/python3.10/dist-packages (from huggingface-hub>=0.23.0->datasets==3.1.0) (4.12.2)\n",
            "Requirement already satisfied: charset-normalizer<4,>=2 in /usr/local/lib/python3.10/dist-packages (from requests>=2.32.2->datasets==3.1.0) (3.4.0)\n",
            "Requirement already satisfied: idna<4,>=2.5 in /usr/local/lib/python3.10/dist-packages (from requests>=2.32.2->datasets==3.1.0) (3.10)\n",
            "Requirement already satisfied: urllib3<3,>=1.21.1 in /usr/local/lib/python3.10/dist-packages (from requests>=2.32.2->datasets==3.1.0) (2.2.3)\n",
            "Requirement already satisfied: certifi>=2017.4.17 in /usr/local/lib/python3.10/dist-packages (from requests>=2.32.2->datasets==3.1.0) (2024.8.30)\n",
            "Requirement already satisfied: python-dateutil>=2.8.2 in /usr/local/lib/python3.10/dist-packages (from pandas->datasets==3.1.0) (2.8.2)\n",
            "Requirement already satisfied: pytz>=2020.1 in /usr/local/lib/python3.10/dist-packages (from pandas->datasets==3.1.0) (2024.2)\n",
            "Requirement already satisfied: tzdata>=2022.7 in /usr/local/lib/python3.10/dist-packages (from pandas->datasets==3.1.0) (2024.2)\n",
            "Requirement already satisfied: six>=1.5 in /usr/local/lib/python3.10/dist-packages (from python-dateutil>=2.8.2->pandas->datasets==3.1.0) (1.17.0)\n",
            "Downloading datasets-3.1.0-py3-none-any.whl (480 kB)\n",
            "\u001b[2K   \u001b[90m━━━━━━━━━━━━━━━━━━━━━━━━━━━━━━━━━━━━━━━━\u001b[0m \u001b[32m480.6/480.6 kB\u001b[0m \u001b[31m9.6 MB/s\u001b[0m eta \u001b[36m0:00:00\u001b[0m\n",
            "\u001b[?25hDownloading dill-0.3.8-py3-none-any.whl (116 kB)\n",
            "\u001b[2K   \u001b[90m━━━━━━━━━━━━━━━━━━━━━━━━━━━━━━━━━━━━━━━━\u001b[0m \u001b[32m116.3/116.3 kB\u001b[0m \u001b[31m8.9 MB/s\u001b[0m eta \u001b[36m0:00:00\u001b[0m\n",
            "\u001b[?25hDownloading fsspec-2024.9.0-py3-none-any.whl (179 kB)\n",
            "\u001b[2K   \u001b[90m━━━━━━━━━━━━━━━━━━━━━━━━━━━━━━━━━━━━━━━━\u001b[0m \u001b[32m179.3/179.3 kB\u001b[0m \u001b[31m13.1 MB/s\u001b[0m eta \u001b[36m0:00:00\u001b[0m\n",
            "\u001b[?25hDownloading multiprocess-0.70.16-py310-none-any.whl (134 kB)\n",
            "\u001b[2K   \u001b[90m━━━━━━━━━━━━━━━━━━━━━━━━━━━━━━━━━━━━━━━━\u001b[0m \u001b[32m134.8/134.8 kB\u001b[0m \u001b[31m7.8 MB/s\u001b[0m eta \u001b[36m0:00:00\u001b[0m\n",
            "\u001b[?25hDownloading xxhash-3.5.0-cp310-cp310-manylinux_2_17_x86_64.manylinux2014_x86_64.whl (194 kB)\n",
            "\u001b[2K   \u001b[90m━━━━━━━━━━━━━━━━━━━━━━━━━━━━━━━━━━━━━━━━\u001b[0m \u001b[32m194.1/194.1 kB\u001b[0m \u001b[31m14.8 MB/s\u001b[0m eta \u001b[36m0:00:00\u001b[0m\n",
            "\u001b[?25hInstalling collected packages: xxhash, fsspec, dill, multiprocess, datasets\n",
            "  Attempting uninstall: fsspec\n",
            "    Found existing installation: fsspec 2024.10.0\n",
            "    Uninstalling fsspec-2024.10.0:\n",
            "      Successfully uninstalled fsspec-2024.10.0\n",
            "\u001b[31mERROR: pip's dependency resolver does not currently take into account all the packages that are installed. This behaviour is the source of the following dependency conflicts.\n",
            "gcsfs 2024.10.0 requires fsspec==2024.10.0, but you have fsspec 2024.9.0 which is incompatible.\u001b[0m\u001b[31m\n",
            "\u001b[0mSuccessfully installed datasets-3.1.0 dill-0.3.8 fsspec-2024.9.0 multiprocess-0.70.16 xxhash-3.5.0\n",
            "Requirement already satisfied: transformers in /usr/local/lib/python3.10/dist-packages (4.46.3)\n",
            "Requirement already satisfied: filelock in /usr/local/lib/python3.10/dist-packages (from transformers) (3.16.1)\n",
            "Requirement already satisfied: huggingface-hub<1.0,>=0.23.2 in /usr/local/lib/python3.10/dist-packages (from transformers) (0.26.5)\n",
            "Requirement already satisfied: numpy>=1.17 in /usr/local/lib/python3.10/dist-packages (from transformers) (1.26.4)\n",
            "Requirement already satisfied: packaging>=20.0 in /usr/local/lib/python3.10/dist-packages (from transformers) (24.2)\n",
            "Requirement already satisfied: pyyaml>=5.1 in /usr/local/lib/python3.10/dist-packages (from transformers) (6.0.2)\n",
            "Requirement already satisfied: regex!=2019.12.17 in /usr/local/lib/python3.10/dist-packages (from transformers) (2024.9.11)\n",
            "Requirement already satisfied: requests in /usr/local/lib/python3.10/dist-packages (from transformers) (2.32.3)\n",
            "Requirement already satisfied: tokenizers<0.21,>=0.20 in /usr/local/lib/python3.10/dist-packages (from transformers) (0.20.3)\n",
            "Requirement already satisfied: safetensors>=0.4.1 in /usr/local/lib/python3.10/dist-packages (from transformers) (0.4.5)\n",
            "Requirement already satisfied: tqdm>=4.27 in /usr/local/lib/python3.10/dist-packages (from transformers) (4.66.6)\n",
            "Requirement already satisfied: fsspec>=2023.5.0 in /usr/local/lib/python3.10/dist-packages (from huggingface-hub<1.0,>=0.23.2->transformers) (2024.9.0)\n",
            "Requirement already satisfied: typing-extensions>=3.7.4.3 in /usr/local/lib/python3.10/dist-packages (from huggingface-hub<1.0,>=0.23.2->transformers) (4.12.2)\n",
            "Requirement already satisfied: charset-normalizer<4,>=2 in /usr/local/lib/python3.10/dist-packages (from requests->transformers) (3.4.0)\n",
            "Requirement already satisfied: idna<4,>=2.5 in /usr/local/lib/python3.10/dist-packages (from requests->transformers) (3.10)\n",
            "Requirement already satisfied: urllib3<3,>=1.21.1 in /usr/local/lib/python3.10/dist-packages (from requests->transformers) (2.2.3)\n",
            "Requirement already satisfied: certifi>=2017.4.17 in /usr/local/lib/python3.10/dist-packages (from requests->transformers) (2024.8.30)\n"
          ]
        }
      ]
    },
    {
      "cell_type": "code",
      "source": [
        "from google.colab import drive\n",
        "drive.mount('/content/drive')"
      ],
      "metadata": {
        "id": "lJGUS3GPayyr",
        "colab": {
          "base_uri": "https://localhost:8080/"
        },
        "outputId": "98203f0f-8bf2-4698-e370-135375388d98"
      },
      "execution_count": 3,
      "outputs": [
        {
          "output_type": "stream",
          "name": "stdout",
          "text": [
            "Mounted at /content/drive\n"
          ]
        }
      ]
    },
    {
      "cell_type": "code",
      "source": [
        "from datasets import load_dataset\n",
        "\n",
        "import torch\n",
        "import numpy as np\n",
        "import random\n",
        "import torch.nn as nn\n",
        "import torch.nn.functional as F\n",
        "from transformers import DistilBertModel, DistilBertTokenizer, DistilBertTokenizerFast, get_linear_schedule_with_warmup, AdamW\n",
        "from torch.utils.data import Dataset, DataLoader\n",
        "from tqdm import tqdm\n",
        "import json\n",
        "import copy\n",
        "\n",
        "# we set up some seeds so that we can reproduce results\n",
        "seed = 123\n",
        "torch.manual_seed(seed)\n",
        "torch.cuda.manual_seed(seed)\n",
        "torch.cuda.manual_seed_all(seed)\n",
        "\n",
        "np.random.seed(seed)\n",
        "random.seed(seed)\n",
        "torch.backends.cudnn.benchmark = False\n",
        "torch.backends.cudnn.deterministic = True\n"
      ],
      "metadata": {
        "id": "OjX3Y-kCzdpE"
      },
      "execution_count": 4,
      "outputs": []
    },
    {
      "cell_type": "code",
      "source": [
        "device = torch.device('cuda' if torch.cuda.is_available() else 'cpu')"
      ],
      "metadata": {
        "id": "dQWDql-uboms"
      },
      "execution_count": 5,
      "outputs": []
    },
    {
      "cell_type": "code",
      "source": [
        "# Change train.json / dev.json to the appropriate filepaths =====\n",
        "data_files = {\"train\": \"drive/MyDrive/final_project/all_train.json\", \"dev\": \"drive/MyDrive/final_project/all_dev.json\"}\n",
        "dataset = load_dataset('json', data_files=data_files)"
      ],
      "metadata": {
        "id": "SXN6ak_sjVMF"
      },
      "execution_count": null,
      "outputs": []
    },
    {
      "cell_type": "markdown",
      "source": [
        "```\n",
        "{'name': \"Stephanie Edwards (Grey's Anatomy)\",\n",
        " 'id': '5495190773098085777',\n",
        " 'questions': [{'input_text': \"when does stephanie die in grey's anatomy\"}],\n",
        " 'answers': [{'candidate_id': 0,\n",
        "   'input_text': 'short',\n",
        "   'span_end': 324,\n",
        "   'span_start': 296,\n",
        "   'span_text': \"`` Ring of Fire '' ( 13.24 )\"}],\n",
        " 'has_correct_context': True,\n",
        " 'contexts': \"Dr. Stephanie Edwards Grey 's Anatomy character The Season 12 Promotional Photo of Jerrika Hinton as Stephanie Edwards First appearance Going , Going , Gone ( 9.01 ) September 27 , 2012 ( as recurring cast ) `` Seal Our Fate '' ( 10.01 ) September 26 , 2013 ( as series regular ) Last appearance `` Ring of Fire '' ( 13.24 ) May 18 , 2017 Created by Shonda Rhimes Portrayed by Jerrika Hinton Information Full name Stephanie Edwards Nickname ( s ) Grumpy Steph Dr. Lavender Title M.D. Significant other ( s ) Jackson Avery Kyle Diaz ( deceased )\"}|\n",
        "\n",
        "```\n",
        "\n",
        "\n"
      ],
      "metadata": {
        "id": "K-RxaHyJjj4n"
      }
    },
    {
      "cell_type": "code",
      "source": [
        "\n",
        "\"\"\"\n",
        "Some options for BERT model that can be run in colab:\n",
        "\n",
        "\"distilbert-base-uncased\",\n",
        "\"distilbert-base-uncased-distilled-squad\",\n",
        "\"distilbert-base-cased\",\n",
        "\"distilbert-base-cased-distilled-squad\",\n",
        "\n",
        "\"\"\""
      ],
      "metadata": {
        "id": "gJOgVaQtwRgj",
        "colab": {
          "base_uri": "https://localhost:8080/",
          "height": 52
        },
        "outputId": "3b26510e-96d8-4d9a-f0a2-473687a8a59d"
      },
      "execution_count": 6,
      "outputs": [
        {
          "output_type": "execute_result",
          "data": {
            "text/plain": [
              "'\\nSome options for BERT model that can be run in colab:\\n\\n\"distilbert-base-uncased\",\\n\"distilbert-base-uncased-distilled-squad\",\\n\"distilbert-base-cased\",\\n\"distilbert-base-cased-distilled-squad\",\\n\\n'"
            ],
            "application/vnd.google.colaboratory.intrinsic+json": {
              "type": "string"
            }
          },
          "metadata": {},
          "execution_count": 6
        }
      ]
    },
    {
      "cell_type": "markdown",
      "source": [
        "# Helper functions / Classes"
      ],
      "metadata": {
        "id": "ziDMZt-7CrSN"
      }
    },
    {
      "cell_type": "code",
      "source": [
        "class QADataset(Dataset):\n",
        "    def __init__(self, data, tokenizer):\n",
        "        self.data = data\n",
        "        self.tokenizer = tokenizer\n",
        "\n",
        "    def __len__(self):\n",
        "        return len(self.data)\n",
        "\n",
        "    def __getitem__(self, idx):\n",
        "        example = self.data[idx]\n",
        "        question = example['questions'][0]['input_text']\n",
        "        context = example['contexts']\n",
        "\n",
        "        # Tokenize the input\n",
        "        encoding = self.tokenizer(\n",
        "            question,\n",
        "            context,\n",
        "            add_special_tokens=True,\n",
        "            max_length=512,\n",
        "            padding='max_length',\n",
        "            truncation=True,\n",
        "            return_offsets_mapping=True,\n",
        "            return_tensors='pt'\n",
        "        )\n",
        "\n",
        "        # Get the offset mapping and sequence ids\n",
        "        offset_mapping = encoding.offset_mapping[0].tolist()\n",
        "        sequence_ids = encoding.sequence_ids(0)\n",
        "\n",
        "        # Initialize positions\n",
        "        start_position = 0\n",
        "        end_position = 0\n",
        "        answer_type = 0\n",
        "\n",
        "        # Process answer\n",
        "        if example['answers'][0]['input_text'] != 'no_answer':\n",
        "            # Get character positions\n",
        "            char_start = example['answers'][0]['span_start']\n",
        "            char_end = example['answers'][0]['span_end']\n",
        "\n",
        "            # Find the context bounds\n",
        "            idx = 0\n",
        "            while sequence_ids[idx] != 1:\n",
        "                idx += 1\n",
        "            context_start = idx\n",
        "            while idx < len(sequence_ids) and sequence_ids[idx] == 1:\n",
        "                idx += 1\n",
        "            context_end = idx - 1\n",
        "\n",
        "            if offset_mapping[context_start][0] > char_end or \\\n",
        "               offset_mapping[context_end][1] < char_start:\n",
        "                start_position = 0\n",
        "                end_position = 0\n",
        "            else:\n",
        "                # Find start position\n",
        "                idx = context_start\n",
        "                while idx <= context_end and offset_mapping[idx][0] <= char_start:\n",
        "                    idx += 1\n",
        "                start_position = idx - 1\n",
        "\n",
        "                # Find end position\n",
        "                idx = context_end\n",
        "                while idx >= context_start and offset_mapping[idx][1] >= char_end:\n",
        "                    idx -= 1\n",
        "                end_position = idx + 1\n",
        "\n",
        "                if start_position <= end_position and start_position >= context_start:\n",
        "                    answer_type = 1\n",
        "\n",
        "        # Remove offset_mapping from encoding\n",
        "        encoding.pop('offset_mapping')\n",
        "\n",
        "        # Create the final dictionary\n",
        "        encoded_dict = {\n",
        "            'input_ids': encoding['input_ids'].squeeze(0),\n",
        "            'attention_mask': encoding['attention_mask'].squeeze(0),\n",
        "            'start_position': torch.tensor(start_position, dtype=torch.long),\n",
        "            'end_position': torch.tensor(end_position, dtype=torch.long),\n",
        "            'answer_type': torch.tensor(answer_type, dtype=torch.long),\n",
        "            'question': question\n",
        "        }\n",
        "\n",
        "        return encoded_dict"
      ],
      "metadata": {
        "id": "wItYea93bcRR"
      },
      "execution_count": 26,
      "outputs": []
    },
    {
      "cell_type": "code",
      "source": [
        "class QAModel(nn.Module):\n",
        "    def __init__(self, dropout_rate=0.0):\n",
        "        super().__init__()\n",
        "        self.bert = DistilBertModel.from_pretrained('distilbert-base-uncased')\n",
        "        # self.dropout = nn.Dropout(dropout_rate)\n",
        "        # Should output logits for each token position\n",
        "        self.qa_outputs = nn.Linear(768, 2)  # 2 for start/end logits\n",
        "        self.type_outputs = nn.Linear(768, 2)  # 2 for answer type\n",
        "\n",
        "    def forward(self, input_ids, attention_mask):\n",
        "        outputs = self.bert(input_ids, attention_mask)\n",
        "        sequence_output = outputs.last_hidden_state  # [batch_size, seq_len, 768]\n",
        "        #sequence_output = self.dropout(sequence_output)\n",
        "\n",
        "        # Get logits for each token position\n",
        "        qa_logits = self.qa_outputs(sequence_output)  # [batch_size, seq_len, 2]\n",
        "        start_logits, end_logits = qa_logits.split(1, dim=-1)  # Each is [batch_size, seq_len, 1]\n",
        "        start_logits = start_logits.squeeze(-1)  # [batch_size, seq_len]\n",
        "        end_logits = end_logits.squeeze(-1)  # [batch_size, seq_len]\n",
        "\n",
        "        # Get answer type logits from [CLS] token\n",
        "        type_logits = self.type_outputs(sequence_output[:,0])  # [batch_size, 2]\n",
        "\n",
        "        return {\n",
        "            'start_logits': start_logits,  # [batch_size, seq_len]\n",
        "            'end_logits': end_logits,    # [batch_size, seq_len]\n",
        "            'answer_type_logits': type_logits  # [batch_size, 2]\n",
        "        }"
      ],
      "metadata": {
        "id": "cqbc9U_zbsza"
      },
      "execution_count": 8,
      "outputs": []
    },
    {
      "cell_type": "markdown",
      "source": [
        "## QAMetrics"
      ],
      "metadata": {
        "id": "sC-f5qBtEEuD"
      }
    },
    {
      "cell_type": "code",
      "source": [
        "class QAMetrics:\n",
        "    def __init__(self, tokenizer):\n",
        "        self.total_true_positives = 0\n",
        "        self.total_false_positives = 0\n",
        "        self.total_false_negatives = 0\n",
        "        self.tokenizer = tokenizer\n",
        "\n",
        "    def add_batch(self, predictions: tuple, references: tuple, input_ids, question=None):\n",
        "        pred_starts, pred_ends = predictions\n",
        "        true_starts, true_ends = references\n",
        "\n",
        "        for i in range(len(pred_starts)):\n",
        "            current_tp = 0\n",
        "            current_fp = 0\n",
        "            current_fn = 0\n",
        "\n",
        "            pred_start = pred_starts[i]\n",
        "            pred_end = pred_ends[i]\n",
        "\n",
        "            # print(\"\\n\" + \"=\"*50)\n",
        "            # print(f\"Sample {i}:\")\n",
        "\n",
        "            # if question is not None:\n",
        "            #   print(f\"\\nQuestion: {question[i]}\")\n",
        "\n",
        "            pred_start_idx = pred_starts[i].item()\n",
        "            pred_end_idx = pred_ends[i].item()\n",
        "            true_start_idx = true_starts[i].item()\n",
        "            true_end_idx = true_ends[i].item()\n",
        "\n",
        "            # Get predicted and true tokens\n",
        "            pred_tokens = input_ids[i][pred_start:pred_end + 1].tolist()\n",
        "            true_tokens = input_ids[i][true_starts[i]:true_ends[i] + 1].tolist()\n",
        "\n",
        "            # print(f\"Predicted span indices: ({pred_start_idx}, {pred_end_idx})\")\n",
        "            # print(f\"Predicted span tokens: {pred_tokens}\")\n",
        "            # print(f\"Predicted words: '{self.tokenizer.decode(pred_tokens)}'\")\n",
        "            # print(f\"\\nTrue span indices: ({true_start_idx}, {true_end_idx})\")\n",
        "            # print(f\"True span tokens: {true_tokens}\")\n",
        "            # print(f\"True words: '{self.tokenizer.decode(true_tokens)}'\")\n",
        "\n",
        "            is_no_answer_pred = (pred_start == 0 and pred_end == 0)\n",
        "            is_no_answer_true = (true_starts[i] == 0 and true_ends[i] == 0)\n",
        "\n",
        "            # print(\"\\nMetrics Update:\")\n",
        "            if is_no_answer_pred:\n",
        "                if is_no_answer_true:\n",
        "                    current_tp = 1\n",
        "                    self.total_true_positives += current_tp\n",
        "                else:\n",
        "                    # But not increment fp as we assume CLS = no answer\n",
        "                    current_fn = 1\n",
        "                    self.total_false_negatives += current_fn\n",
        "            else:\n",
        "                if is_no_answer_true:\n",
        "                    current_fp = len(pred_tokens)\n",
        "                    self.total_false_positives += current_fp\n",
        "                else:\n",
        "                    # Token-level comparison\n",
        "                    current_tp = sum(1 for token in pred_tokens if token in true_tokens)\n",
        "                    current_fp = sum(1 for token in pred_tokens if token not in true_tokens)\n",
        "                    current_fn = sum(1 for token in true_tokens if token not in pred_tokens)\n",
        "\n",
        "                    self.total_true_positives += current_tp\n",
        "                    self.total_false_positives += current_fp\n",
        "                    self.total_false_negatives += current_fn\n",
        "\n",
        "            # print(f\"\\nMetrics for this sample:\")\n",
        "            # print(f\"TP: {current_tp}\")\n",
        "            # print(f\"FP: {current_fp}\")\n",
        "            # print(f\"FN: {current_fn}\")\n",
        "\n",
        "\n",
        "    def compute(self) -> dict:\n",
        "        \"\"\"\n",
        "        Compute the final metrics.\n",
        "\n",
        "        Returns:\n",
        "            dict containing precision, recall, and F1 scores\n",
        "        \"\"\"\n",
        "        precision = (self.total_true_positives /\n",
        "                    (self.total_true_positives + self.total_false_positives)\n",
        "                    if self.total_true_positives + self.total_false_positives > 0\n",
        "                    else 0)\n",
        "\n",
        "        recall = (self.total_true_positives /\n",
        "                 (self.total_true_positives + self.total_false_negatives)\n",
        "                 if self.total_true_positives + self.total_false_negatives > 0\n",
        "                 else 0)\n",
        "\n",
        "        f1 = (2 * precision * recall / (precision + recall)\n",
        "              if precision + recall > 0\n",
        "              else 0)\n",
        "\n",
        "        return {\n",
        "            'precision': precision,\n",
        "            'recall': recall,\n",
        "            'f1': f1\n",
        "        }"
      ],
      "metadata": {
        "id": "Ueq1d_qSb5Tc"
      },
      "execution_count": 30,
      "outputs": []
    },
    {
      "cell_type": "markdown",
      "source": [
        "## compute_loss"
      ],
      "metadata": {
        "id": "hwfEvMVtEzgr"
      }
    },
    {
      "cell_type": "code",
      "source": [
        "def compute_loss(outputs: dict, batch: dict) -> torch.Tensor:\n",
        "    \"\"\"\n",
        "    Compute the loss as defined in the paper:\n",
        "    L = -log p(s,e,t|c) = -log pstart(s|c) - log pend(e|c) - log ptype(t|c)\n",
        "\n",
        "    Args:\n",
        "        outputs: Model outputs containing logits\n",
        "        batch: Batch containing ground truth labels\n",
        "\n",
        "    Returns:\n",
        "        torch.Tensor: Total loss for the batch\n",
        "    \"\"\"\n",
        "    # Get logits from model outputs\n",
        "    start_logits = outputs['start_logits']  # [batch_size, seq_len]\n",
        "    end_logits = outputs['end_logits']      # [batch_size, seq_len]\n",
        "    type_logits = outputs['answer_type_logits']  # [batch_size, 2]\n",
        "\n",
        "    # Get labels\n",
        "    start_positions = batch['start_position']\n",
        "    end_positions = batch['end_position']\n",
        "    answer_types = batch['answer_type']\n",
        "\n",
        "    # Compute probabilities\n",
        "    start_probs = F.softmax(start_logits, dim=-1)  # [batch_size, seq_len]\n",
        "    end_probs = F.softmax(end_logits, dim=-1)      # [batch_size, seq_len]\n",
        "    type_probs = F.softmax(type_logits, dim=-1)    # [batch_size, 2]\n",
        "\n",
        "    # Compute loss for each example in batch\n",
        "    batch_size = start_logits.size(0)\n",
        "    total_loss = 0\n",
        "\n",
        "    for i in range(batch_size):\n",
        "        # Get probabilities of correct positions\n",
        "        start_prob = start_probs[i][start_positions[i]]\n",
        "        end_prob = end_probs[i][end_positions[i]]\n",
        "        type_prob = type_probs[i][answer_types[i]]\n",
        "\n",
        "        # Sum negative log probabilities\n",
        "        total_loss -= (torch.log(start_prob) +\n",
        "                      torch.log(end_prob) +\n",
        "                      torch.log(type_prob))\n",
        "\n",
        "    # Return average loss over batch\n",
        "    return total_loss / batch_size"
      ],
      "metadata": {
        "id": "ENAieq1QcD_K"
      },
      "execution_count": 10,
      "outputs": []
    },
    {
      "cell_type": "markdown",
      "source": [
        "## Load model, data, proprocess"
      ],
      "metadata": {
        "id": "SNASElODFcw2"
      }
    },
    {
      "cell_type": "code",
      "source": [
        "def load_model():\n",
        "    \"\"\"\n",
        "    Load the pretrained tokenizer and initialize the model.\n",
        "\n",
        "    Returns:\n",
        "        tuple: (model, tokenizer)\n",
        "    \"\"\"\n",
        "    tokenizer = DistilBertTokenizerFast.from_pretrained(\n",
        "        'distilbert-base-uncased'\n",
        "    )\n",
        "    model = QAModel(dropout_rate=0.1)\n",
        "    return model, tokenizer\n",
        "\n",
        "def load_data():\n",
        "    \"\"\"\n",
        "    Load training and validation data from json files.\n",
        "\n",
        "    Returns:\n",
        "        tuple: (train_data, val_data)\n",
        "    \"\"\"\n",
        "    train_path = 'drive/MyDrive/final_project/all_train.json'\n",
        "    dev_path = 'drive/MyDrive/final_project/all_dev.json'\n",
        "\n",
        "    with open(train_path, 'r') as f:\n",
        "        train_data = json.load(f)\n",
        "    with open(dev_path, 'r') as f:\n",
        "        val_data = json.load(f)\n",
        "\n",
        "    return train_data, val_data\n",
        "\n",
        "def preprocess_and_tokenize(data, tokenizer, batch_size=64, is_training=True):\n",
        "    \"\"\"\n",
        "    Create DataLoader for the dataset.\n",
        "\n",
        "    Args:\n",
        "        data: Raw data\n",
        "        tokenizer: Tokenizer for processing text\n",
        "        batch_size: Batch size for DataLoader\n",
        "        is_training: Whether this is for training set (determines shuffling)\n",
        "    \"\"\"\n",
        "    dataset = QADataset(data, tokenizer)\n",
        "    dataloader = DataLoader(\n",
        "        dataset,\n",
        "        batch_size=batch_size,\n",
        "        shuffle=is_training  # Shuffle only training data\n",
        "    )\n",
        "    return dataloader"
      ],
      "metadata": {
        "id": "6-e5L6-UcGJA"
      },
      "execution_count": 11,
      "outputs": []
    },
    {
      "cell_type": "markdown",
      "source": [
        "## Train and eval"
      ],
      "metadata": {
        "id": "jOQDRp1aFfLs"
      }
    },
    {
      "cell_type": "code",
      "source": [
        "def train_loop(model, train_dataloader, val_dataloader, device, num_epochs=2):\n",
        "    \"\"\"\n",
        "    Training loop for the model.\n",
        "    Args:\n",
        "        model: The QA model\n",
        "        train_dataloader: DataLoader for training data (436 batches × 64 samples)\n",
        "        val_dataloader: DataLoader for validation data (28 batches × 64 samples)\n",
        "        device: Device to run the model on (GPU/CPU)\n",
        "        num_epochs: Number of complete training cycles\n",
        "    Returns:\n",
        "        tuple: Lists of training and validation losses, and trained model\n",
        "    \"\"\"\n",
        "    # Initialize optimizer with learning rate 5e-5\n",
        "    optimizer = torch.optim.AdamW(model.parameters(), lr=5e-5)\n",
        "    # Move model to GPU if available\n",
        "    model = model.to(device)\n",
        "\n",
        "    # Lists to track performance across epochs\n",
        "    train_losses = []\n",
        "    val_losses = []\n",
        "    best_val_loss = float('inf')  # Initialize best validation loss as infinity\n",
        "    best_model = None             # Store best performing model\n",
        "\n",
        "    # Main training loop - repeat for num_epochs\n",
        "    for epoch in range(num_epochs):\n",
        "        # === TRAINING PHASE ===\n",
        "        model.train()  # Set model to training mode (enables dropout, etc.)\n",
        "        total_train_loss = 0\n",
        "\n",
        "        # Process each batch of training data\n",
        "        for batch in tqdm(train_dataloader, desc=f'Epoch {epoch+1} Training'):\n",
        "            # Move batch data to GPU/CPU, exclude question text\n",
        "            batch = {k: v.to(device) for k, v in batch.items() if k != 'question'}\n",
        "\n",
        "            # Forward pass: get model predictions\n",
        "            outputs = model(batch['input_ids'], batch['attention_mask'])\n",
        "\n",
        "            # Reset gradients from previous batch\n",
        "            optimizer.zero_grad()\n",
        "\n",
        "            # Calculate loss and backpropagate\n",
        "            loss = compute_loss(outputs, batch)\n",
        "            loss.backward()  # Compute gradients\n",
        "\n",
        "            # Update model weights using calculated gradients\n",
        "            optimizer.step()\n",
        "\n",
        "            # Accumulate total loss for this epoch\n",
        "            total_train_loss += loss.item()\n",
        "\n",
        "        # Calculate average loss for this epoch\n",
        "        avg_train_loss = total_train_loss / len(train_dataloader)\n",
        "        train_losses.append(avg_train_loss)\n",
        "\n",
        "        # === VALIDATION PHASE ===\n",
        "        model.eval()  # Set model to evaluation mode (disables dropout, etc.)\n",
        "        total_val_loss = 0\n",
        "\n",
        "        # No gradient calculation needed for validation\n",
        "        with torch.no_grad():\n",
        "            for batch in tqdm(val_dataloader, desc=f'Epoch {epoch+1} Validation'):\n",
        "                # Move batch to device\n",
        "                batch = {k: v.to(device) for k, v in batch.items() if k != 'question'}\n",
        "                # Get predictions and compute loss\n",
        "                outputs = model(batch['input_ids'], batch['attention_mask'])\n",
        "                loss = compute_loss(outputs, batch)\n",
        "                total_val_loss += loss.item()\n",
        "\n",
        "        # Calculate average validation loss\n",
        "        avg_val_loss = total_val_loss / len(val_dataloader)\n",
        "        val_losses.append(avg_val_loss)\n",
        "\n",
        "        # Print epoch results\n",
        "        print(f'Epoch {epoch+1}:')\n",
        "        print(f'Average Training Loss: {avg_train_loss:.4f}')\n",
        "        print(f'Average Validation Loss: {avg_val_loss:.4f}')\n",
        "\n",
        "    # Return training history and final model\n",
        "    return train_losses, val_losses, model\n",
        "\n",
        "\n",
        "def get_best_span_vectorized(start_logits, end_logits, max_span_length=30):\n",
        "    \"\"\"\n",
        "    Compute the best span using vectorized operations.\n",
        "    Paper formula:\n",
        "    - g(c, s, e) = fstart(s, c; θ) + fend(e, c; θ) − fstart(s = [CLS], c; θ) − fend(e = [CLS], c; θ)\n",
        "    - score = (start_logit + end_logit) - cls_score\n",
        "\n",
        "    Args:\n",
        "        start_logits: tensor of shape [seq_len], logits for start positions\n",
        "        end_logits: tensor of shape [seq_len], logits for end positions\n",
        "        max_span_length: maximum allowed length for the predicted span\n",
        "    Returns:\n",
        "        best_start: index of the best start position\n",
        "        best_end: index of the best end position\n",
        "    \"\"\"\n",
        "    seq_len = len(start_logits)\n",
        "\n",
        "    # Get the CLS token score (used as threshold for no-answer)\n",
        "    cls_score = start_logits[0] + end_logits[0]\n",
        "\n",
        "    # Initialize score matrix [seq_len, seq_len]\n",
        "    # scores[i,j] will contain the score for span from position i to j\n",
        "    scores = torch.zeros((seq_len, seq_len), device=start_logits.device)\n",
        "\n",
        "    # Calculate scores for all valid spans\n",
        "    # A span is valid if:\n",
        "    # 1. start_idx <= end_idx\n",
        "    # 2. length <= max_span_length\n",
        "    for start_idx in range(seq_len):\n",
        "        # Only consider end positions that:\n",
        "        # 1. Come after the start position\n",
        "        # 2. Are within max_span_length tokens of the start\n",
        "\n",
        "        # Apparently this implementation is much faster in GPU\n",
        "        valid_ends = slice(start_idx, min(seq_len, start_idx + max_span_length))\n",
        "\n",
        "        # Calculate span scores and subtract CLS score\n",
        "        # This implements the paper's scoring function:\n",
        "        # score = (start_logit + end_logit) - cls_score\n",
        "        span_scores = start_logits[start_idx] + end_logits[valid_ends]\n",
        "        scores[start_idx, valid_ends] = span_scores - cls_score\n",
        "\n",
        "    # Find the highest scoring span\n",
        "    flat_scores = scores.view(-1)\n",
        "    best_idx = torch.argmax(flat_scores)\n",
        "\n",
        "    # Convert flat index back to 2D coordinates\n",
        "    best_start = best_idx // seq_len\n",
        "    best_end = best_idx % seq_len\n",
        "\n",
        "    return best_start, best_end\n",
        "\n",
        "def eval_loop(model, val_dataloader, device, tokenizer):\n",
        "    \"\"\"\n",
        "    Evaluation loop for computing metrics.\n",
        "\n",
        "    Args:\n",
        "        model: The QA model\n",
        "        val_dataloader: DataLoader for validation data\n",
        "        device: Device to run the model on\n",
        "        tokenizer: Tokenizer for converting ids back to tokens\n",
        "\n",
        "    Returns:\n",
        "        tuple: (precision, recall, f1_score)\n",
        "    \"\"\"\n",
        "    model.eval()\n",
        "    metrics = QAMetrics(tokenizer)\n",
        "\n",
        "    with torch.no_grad():\n",
        "        for batch in tqdm(val_dataloader, desc='Evaluating'):\n",
        "            # Prepare inputs\n",
        "            model_inputs = {\n",
        "                'input_ids': batch['input_ids'].to(device),\n",
        "                'attention_mask': batch['attention_mask'].to(device)\n",
        "            }\n",
        "            outputs = model(**model_inputs)\n",
        "\n",
        "            # Get predictions\n",
        "            start_logits = outputs['start_logits']  # [batch_size, seq_len]\n",
        "            end_logits = outputs['end_logits']      # [batch_size, seq_len]\n",
        "            batch_size = start_logits.size(0)\n",
        "\n",
        "            # Store predictions\n",
        "            pred_starts = []\n",
        "            pred_ends = []\n",
        "\n",
        "            # Process each example in batch\n",
        "            for i in range(batch_size):\n",
        "                start_logits_i = start_logits[i]\n",
        "                end_logits_i = end_logits[i]\n",
        "\n",
        "                # Get best span using vectorized computation\n",
        "                best_start, best_end = get_best_span_vectorized(\n",
        "                    start_logits_i,\n",
        "                    end_logits_i,\n",
        "                    max_span_length=30\n",
        "                )\n",
        "\n",
        "                pred_starts.append(best_start)\n",
        "                pred_ends.append(best_end)\n",
        "\n",
        "            # Convert to tensors\n",
        "            pred_starts = torch.tensor(pred_starts, device=device)\n",
        "            pred_ends = torch.tensor(pred_ends, device=device)\n",
        "\n",
        "            # Update metrics\n",
        "            metrics.add_batch(\n",
        "                predictions=(pred_starts, pred_ends),\n",
        "                references=(batch['start_position'], batch['end_position']),\n",
        "                input_ids=batch['input_ids'],\n",
        "                question=batch['question']\n",
        "            )\n",
        "\n",
        "    # Get results and return in same format as original\n",
        "    results = metrics.compute()\n",
        "    return results['precision'], results['recall'], results['f1']"
      ],
      "metadata": {
        "id": "jGSdzhp2cI2w"
      },
      "execution_count": 13,
      "outputs": []
    },
    {
      "cell_type": "markdown",
      "source": [
        "## Plot"
      ],
      "metadata": {
        "id": "lJ3yBqAAF9rB"
      }
    },
    {
      "cell_type": "code",
      "source": [
        "def plot_training_curves(train_losses, val_losses):\n",
        "    \"\"\"Helper function to plot training curves\"\"\"\n",
        "    try:\n",
        "        import matplotlib.pyplot as plt\n",
        "        plt.figure(figsize=(10, 6))\n",
        "        plt.plot(train_losses, label='Training Loss')\n",
        "        plt.plot(val_losses, label='Validation Loss')\n",
        "        plt.title('Training and Validation Losses')\n",
        "        plt.xlabel('Epoch')\n",
        "        plt.ylabel('Loss')\n",
        "        plt.legend()\n",
        "        plt.show()\n",
        "    except ImportError:\n",
        "        print(\"Matplotlib not available for plotting\")"
      ],
      "metadata": {
        "id": "JUxX8ollF_GH"
      },
      "execution_count": 34,
      "outputs": []
    },
    {
      "cell_type": "markdown",
      "source": [
        "# Main"
      ],
      "metadata": {
        "id": "bS_mc-6qCYs2"
      }
    },
    {
      "cell_type": "code",
      "source": [
        "def main():\n",
        "    # Set device and hyperparameters\n",
        "    device = \"cuda\" if torch.cuda.is_available() else \"cpu\"\n",
        "    batch_size = 64\n",
        "    num_epochs = 2\n",
        "    print(f\"Using device: {device}\")\n",
        "\n",
        "    try:\n",
        "        # Load model and data\n",
        "        print(\"Loading model and tokenizer...\")\n",
        "        model, tokenizer = load_model()\n",
        "        model = model.to(device)\n",
        "\n",
        "        print(\"Loading data...\")\n",
        "        train_data, val_data = load_data()\n",
        "        print(f\"Train examples: {len(train_data)}, Validation examples: {len(val_data)}\")\n",
        "\n",
        "        # Create dataloaders\n",
        "        print(\"Creating dataloaders...\")\n",
        "        train_dataloader = preprocess_and_tokenize(train_data, tokenizer, batch_size, is_training=True)\n",
        "        val_dataloader = preprocess_and_tokenize(val_data, tokenizer, batch_size, is_training=False)\n",
        "\n",
        "        # Train the model\n",
        "        print(\"\\nStarting training...\")\n",
        "        train_losses, val_losses, best_model = train_loop(\n",
        "            model,\n",
        "            train_dataloader,\n",
        "            val_dataloader,\n",
        "            device,\n",
        "            num_epochs=num_epochs\n",
        "        )\n",
        "\n",
        "        # Evaluate best model\n",
        "        print(\"\\nEvaluating best model...\")\n",
        "        precision, recall, f1_score = eval_loop(best_model, val_dataloader, device, tokenizer)\n",
        "\n",
        "        # Print final metrics\n",
        "        print(\"\\nFinal Metrics:\")\n",
        "        print(f\"PRECISION: {precision:.3f}\")\n",
        "        print(f\"RECALL: {recall:.3f}\")\n",
        "        print(f\"F1-SCORE: {f1_score:.3f}\")\n",
        "\n",
        "        # Plot training curves\n",
        "        plot_training_curves(train_losses, val_losses)\n",
        "\n",
        "    except Exception as e:\n",
        "        print(f\"An error occurred: {str(e)}\")\n",
        "\n",
        "if __name__ == \"__main__\":\n",
        "    main()"
      ],
      "metadata": {
        "colab": {
          "base_uri": "https://localhost:8080/",
          "height": 998
        },
        "id": "p9A_PaWe11YE",
        "outputId": "fa51251c-2873-4d0e-b7f2-de0664d3f69b"
      },
      "execution_count": 33,
      "outputs": [
        {
          "output_type": "stream",
          "name": "stdout",
          "text": [
            "Using device: cuda\n",
            "Loading model and tokenizer...\n",
            "Loading data...\n",
            "Train examples: 27866, Validation examples: 1743\n",
            "Creating dataloaders...\n",
            "\n",
            "Starting training...\n"
          ]
        },
        {
          "output_type": "stream",
          "name": "stderr",
          "text": [
            "Epoch 1 Training: 100%|██████████| 436/436 [22:07<00:00,  3.05s/it]\n",
            "Epoch 1 Validation: 100%|██████████| 28/28 [00:27<00:00,  1.00it/s]\n"
          ]
        },
        {
          "output_type": "stream",
          "name": "stdout",
          "text": [
            "Epoch 1:\n",
            "Average Training Loss: 3.8570\n",
            "Average Validation Loss: 2.7140\n"
          ]
        },
        {
          "output_type": "stream",
          "name": "stderr",
          "text": [
            "Epoch 2 Training: 100%|██████████| 436/436 [22:07<00:00,  3.04s/it]\n",
            "Epoch 2 Validation: 100%|██████████| 28/28 [00:27<00:00,  1.01it/s]\n"
          ]
        },
        {
          "output_type": "stream",
          "name": "stdout",
          "text": [
            "Epoch 2:\n",
            "Average Training Loss: 2.1969\n",
            "Average Validation Loss: 2.4905\n",
            "\n",
            "Evaluating best model...\n"
          ]
        },
        {
          "output_type": "stream",
          "name": "stderr",
          "text": [
            "Evaluating: 100%|██████████| 28/28 [01:06<00:00,  2.39s/it]\n"
          ]
        },
        {
          "output_type": "stream",
          "name": "stdout",
          "text": [
            "\n",
            "Final Metrics:\n",
            "PRECISION: 0.631\n",
            "RECALL: 0.597\n",
            "F1-SCORE: 0.613\n"
          ]
        },
        {
          "output_type": "display_data",
          "data": {
            "text/plain": [
              "<Figure size 1000x600 with 1 Axes>"
            ],
            "image/png": "[encoded data removed]"
          },
          "metadata": {}
        }
      ]
    },
    {
      "cell_type": "markdown",
      "source": [
        "# Appendix - previous debugging process\n",
        "- noticed span can end < start -> check span creation process and noticed paper implementation is wrong\n",
        "- noticed precision is super low and FP is quite high -> from long prediction -> limit span size"
      ],
      "metadata": {
        "id": "tbYEi8koqdg_"
      }
    },
    {
      "cell_type": "markdown",
      "source": [
        "```\n",
        "Sample 48:\n",
        "-----------------\n",
        "\n",
        "Predicted span indices: (67, 0)\n",
        "Predicted span tokens: tensor([], device='cuda:0', dtype=torch.int64)\n",
        "Predicted words: ''\n",
        "\n",
        "True span indices: (82, 99)\n",
        "True span tokens: tensor([3248, 1037, 3145, 2535, 1999, 17886, 3258, 1997, 8171, 1010,\n",
        "       2011, 2552, 17441, 17886, 3512, 16285, 1010, 1998, 2437, 13749,\n",
        "       17944, 8171, 4895, 22401, 2140, 2061, 2008, 17886, 3512, 16285,\n",
        "       3338, 2091, 1996, 2146, 8859, 1997, 13096, 12737],\n",
        "      device='cuda:0')\n",
        "True words: 'plays a key role in digestion of proteins, by activating digestive enzymes, and making ingested proteins unravel so that digestive enzymes break down the long chains of amino acids'\n",
        "\n",
        "Metrics for this sample:\n",
        "TP: 0\n",
        "FP: 0\n",
        "FN: 38\n",
        "```"
      ],
      "metadata": {
        "id": "4FMzvV3bsC01"
      }
    },
    {
      "cell_type": "markdown",
      "source": [
        "```\n",
        "Sample 17:\n",
        "\n",
        "Question: who did johnny manziel play college football for\n",
        "Predicted span indices: (84, 103)\n",
        "Predicted span tokens: [3146, 1037, 1004, 1049, 5088, 4433, 1024, 2297, 1013, 2461, 1024, 1015, 1013, 4060, 1024, 2570, 2476, 2381, 6044, 13240]\n",
        "Predicted words: 'texas a & m nfl draft : 2014 / round : 1 / pick : 22 career history cleveland browns'\n",
        "\n",
        "True span indices: (84, 87)\n",
        "True span tokens: [3146, 1037, 1004, 1049]\n",
        "True words: 'texas a & m'\n",
        "\n",
        "Metrics Update:\n",
        "\n",
        "Metrics for this sample:\n",
        "TP: 4\n",
        "FP: 16\n",
        "FN: 0\n",
        "```"
      ],
      "metadata": {
        "id": "iuAY_HwfvQfs"
      }
    },
    {
      "cell_type": "markdown",
      "source": [
        "```\n",
        "Sample 56:\n",
        "\n",
        "Question: who produced the movie i can only imagine\n",
        "Predicted span indices: (23, 126)\n",
        "Predicted span tokens: [15837, 5416, 4901, 2091, 2229, 22514, 3393, 7959, 6299, 11021, 11876, 12662, 6969, 11895, 19771, 8202, 7638, 5671, 3533, 14161, 7361, 2361, 9000, 2011, 6285, 22209, 12895, 23680, 2953, 19099, 2466, 2011, 4074, 29433, 6285, 22209, 12895, 23680, 2953, 19099, 2241, 2006, 1996, 2166, 2466, 1997, 12075, 4971, 4232, 4626, 1046, 1012, 2745, 29194, 16974, 10767, 7637, 4748, 14322, 25193, 13182, 2099, 18856, 21239, 24520, 2386, 6877, 24209, 14326, 2189, 2011, 12895, 23680, 2953, 19099, 16434, 19031, 14399, 5886, 5035, 4115, 5493, 2011, 4080, 22209, 12895, 23680, 2953, 19099, 2537, 3316, 4901, 2091, 2229, 5453, 3260, 4620, 2248, 5500, 2011, 7212, 5867, 25131, 13051]\n",
        "Predicted words: 'cindy bond kevin downes daryl lefever mickey liddell pete shilaimon raymond harris joe knopp screenplay by jon erwin brent mccorkle story by alex cramer jon erwin brent mccorkle based on the life story of bart millard starring j. michael finley madeline carroll trace adkins priscilla shirer cloris leachman dennis quaid music by brent mccorkle cinematography kristopher kimlin edited by andrew erwin brent mccorkle production companies kevin downes productions mission pictures international distributed by lionsgate roadside attractions'\n",
        "\n",
        "True span indices: (23, 44)\n",
        "True span tokens: [15837, 5416, 4901, 2091, 2229, 22514, 3393, 7959, 6299, 11021, 11876, 12662, 6969, 11895, 19771, 8202, 7638, 5671, 3533, 14161, 7361, 2361]\n",
        "True words: 'cindy bond kevin downes daryl lefever mickey liddell pete shilaimon raymond harris joe knopp'\n",
        "\n",
        "Metrics Update:\n",
        "\n",
        "Metrics for this sample:\n",
        "TP: 25\n",
        "FP: 79\n",
        "FN: 0\n",
        "```\n",
        "\n",
        "```\n",
        "==================================================\n",
        "Sample 57:\n",
        "\n",
        "Question: where is nuclear energy used most in the world\n",
        "Predicted span indices: (23, 36)\n",
        "Predicted span tokens: [2885, 1010, 2167, 2637, 1010, 2264, 4021, 1998, 2148, 4021, 1012, 1996, 2142, 2163]\n",
        "Predicted words: 'europe, north america, east asia and south asia. the united states'\n",
        "\n",
        "True span indices: (35, 36)\n",
        "True span tokens: [2142, 2163]\n",
        "True words: 'united states'\n",
        "\n",
        "Metrics Update:\n",
        "\n",
        "Metrics for this sample:\n",
        "TP: 2\n",
        "FP: 12\n",
        "FN: 0\n",
        "```"
      ],
      "metadata": {
        "id": "8xsif3b2r-U5"
      }
    }
  ]
}